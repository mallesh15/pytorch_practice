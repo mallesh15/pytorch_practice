{
  "nbformat": 4,
  "nbformat_minor": 0,
  "metadata": {
    "colab": {
      "provenance": []
    },
    "kernelspec": {
      "name": "python3",
      "display_name": "Python 3"
    },
    "language_info": {
      "name": "python"
    }
  },
  "cells": [
    {
      "cell_type": "code",
      "execution_count": 1,
      "metadata": {
        "id": "96bNiayNm-Eg"
      },
      "outputs": [],
      "source": [
        "import torch\n",
        "import torch.nn as nn\n",
        "import torch.nn.functional as F\n",
        "import numpy as np"
      ]
    },
    {
      "cell_type": "code",
      "source": [
        "class SingleRNN(nn.Module):\n",
        "  def __init__(self, input_size, neurons):\n",
        "    super(SingleRNN, self).__init__()\n",
        "    self.Wx = torch.rand(input_size, neurons)\n",
        "    self.Wy = torch.rand(neurons, neurons)\n",
        "\n",
        "    self.b = torch.zeros(1, neurons)\n",
        "\n",
        "\n",
        "  def forward(self, X0, X1):\n",
        "    self.Y0 = torch.tanh(torch.mm(X0, self.Wx) + self.b)\n",
        "    self.Y1 = torch.tanh(torch.mm(self.Y0, self.Wy) + torch.mm(X1, self.Wx) + self.b)\n",
        "\n",
        "    return self.Y0, self.Y1\n",
        "\n"
      ],
      "metadata": {
        "id": "zUIavKTHnTMR"
      },
      "execution_count": 7,
      "outputs": []
    },
    {
      "cell_type": "code",
      "source": [
        "input_size = 2\n",
        "neurons = 1\n",
        "\n",
        "X0_batch = torch.tensor([[1,2], [3,4], [5,6], [7,8]], dtype=torch.float)\n",
        "\n",
        "X1_batch = torch.tensor([[1.4,5.6], [2.3, 4.5], [7.8,2.6],[4,2]], dtype= torch.float)\n",
        "\n",
        "\n",
        "model = SingleRNN(input_size, neurons)\n",
        "Y0_val, Y1_val = model(X0_batch, X1_batch)"
      ],
      "metadata": {
        "id": "ijteUn5GqFvA"
      },
      "execution_count": 8,
      "outputs": []
    },
    {
      "cell_type": "code",
      "source": [
        "Y0_val"
      ],
      "metadata": {
        "colab": {
          "base_uri": "https://localhost:8080/"
        },
        "id": "RjOAYmFTrt7B",
        "outputId": "e76c261a-ea56-48fd-e3ad-21ff1641b6ce"
      },
      "execution_count": 9,
      "outputs": [
        {
          "output_type": "execute_result",
          "data": {
            "text/plain": [
              "tensor([[0.9761],\n",
              "        [1.0000],\n",
              "        [1.0000],\n",
              "        [1.0000]])"
            ]
          },
          "metadata": {},
          "execution_count": 9
        }
      ]
    },
    {
      "cell_type": "code",
      "source": [
        "Y1_val"
      ],
      "metadata": {
        "colab": {
          "base_uri": "https://localhost:8080/"
        },
        "id": "XaJg2PMZrvwK",
        "outputId": "22e7a1ac-86fc-4e62-c3e1-ad5fdbadbd9c"
      },
      "execution_count": 10,
      "outputs": [
        {
          "output_type": "execute_result",
          "data": {
            "text/plain": [
              "tensor([[1.0000],\n",
              "        [1.0000],\n",
              "        [1.0000],\n",
              "        [1.0000]])"
            ]
          },
          "metadata": {},
          "execution_count": 10
        }
      ]
    }
  ]
}